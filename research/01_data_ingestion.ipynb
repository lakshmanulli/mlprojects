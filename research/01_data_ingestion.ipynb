{
 "cells": [
  {
   "cell_type": "code",
   "execution_count": 1,
   "metadata": {},
   "outputs": [],
   "source": [
    "import os"
   ]
  },
  {
   "cell_type": "code",
   "execution_count": 2,
   "metadata": {},
   "outputs": [
    {
     "data": {
      "text/plain": [
       "'d:\\\\End to end projects\\\\mlprojects\\\\research'"
      ]
     },
     "execution_count": 2,
     "metadata": {},
     "output_type": "execute_result"
    }
   ],
   "source": [
    "\n",
    "%pwd"
   ]
  },
  {
   "cell_type": "code",
   "execution_count": 3,
   "metadata": {},
   "outputs": [],
   "source": [
    "\n",
    "os.chdir(\"../\")"
   ]
  },
  {
   "cell_type": "code",
   "execution_count": 4,
   "metadata": {},
   "outputs": [
    {
     "data": {
      "text/plain": [
       "'d:\\\\End to end projects\\\\mlprojects'"
      ]
     },
     "execution_count": 4,
     "metadata": {},
     "output_type": "execute_result"
    }
   ],
   "source": [
    "%pwd"
   ]
  },
  {
   "cell_type": "code",
   "execution_count": 6,
   "metadata": {},
   "outputs": [],
   "source": [
    "\n",
    "from dataclasses import dataclass\n",
    "from pathlib import Path\n",
    "\n",
    "\n",
    "@dataclass(frozen=True)\n",
    "class DataIngestionConfig:\n",
    "    root_dir: Path\n",
    "    source_URL: str\n",
    "    local_data_file: Path\n",
    "    unzip_dir: Path"
   ]
  },
  {
   "cell_type": "code",
   "execution_count": 27,
   "metadata": {},
   "outputs": [
    {
     "name": "stdout",
     "output_type": "stream",
     "text": [
      "Collecting mlProject\n",
      "  Downloading mlproject-1.0-py3-none-any.whl.metadata (679 bytes)\n",
      "Requirement already satisfied: pip>=9 in c:\\users\\laksh\\downloads\\conndaaa\\envs\\mlproject\\lib\\site-packages (from mlProject) (24.0)\n",
      "Requirement already satisfied: setuptools>=26 in c:\\users\\laksh\\downloads\\conndaaa\\envs\\mlproject\\lib\\site-packages (from mlProject) (69.5.1)\n",
      "Collecting twine (from mlProject)\n",
      "  Downloading twine-5.1.1-py3-none-any.whl.metadata (3.5 kB)\n",
      "Requirement already satisfied: wheel>=0.29 in c:\\users\\laksh\\downloads\\conndaaa\\envs\\mlproject\\lib\\site-packages (from mlProject) (0.43.0)\n",
      "Collecting numpy (from mlProject)\n",
      "  Downloading numpy-1.24.4-cp38-cp38-win_amd64.whl.metadata (5.6 kB)\n",
      "Collecting pandas (from mlProject)\n",
      "  Downloading pandas-2.0.3-cp38-cp38-win_amd64.whl.metadata (18 kB)\n",
      "Collecting scikit-learn (from mlProject)\n",
      "  Downloading scikit_learn-1.3.2-cp38-cp38-win_amd64.whl.metadata (11 kB)\n",
      "Collecting black (from mlProject)\n",
      "  Downloading black-24.4.2-cp38-cp38-win_amd64.whl.metadata (77 kB)\n",
      "     ---------------------------------------- 0.0/77.1 kB ? eta -:--:--\n",
      "     ---------------------------------------- 0.0/77.1 kB ? eta -:--:--\n",
      "     ---------------------------------------- 0.0/77.1 kB ? eta -:--:--\n",
      "     ---------------------------------------- 0.0/77.1 kB ? eta -:--:--\n",
      "     ----- ---------------------------------- 10.2/77.1 kB ? eta -:--:--\n",
      "     ----- ---------------------------------- 10.2/77.1 kB ? eta -:--:--\n",
      "     ----- ---------------------------------- 10.2/77.1 kB ? eta -:--:--\n",
      "     ----- ---------------------------------- 10.2/77.1 kB ? eta -:--:--\n",
      "     ----- ---------------------------------- 10.2/77.1 kB ? eta -:--:--\n",
      "     ----- ---------------------------------- 10.2/77.1 kB ? eta -:--:--\n",
      "     --------------- ----------------------- 30.7/77.1 kB 62.4 kB/s eta 0:00:01\n",
      "     --------------- ----------------------- 30.7/77.1 kB 62.4 kB/s eta 0:00:01\n",
      "     --------------- ----------------------- 30.7/77.1 kB 62.4 kB/s eta 0:00:01\n",
      "     -------------------- ------------------ 41.0/77.1 kB 70.3 kB/s eta 0:00:01\n",
      "     -------------------- ------------------ 41.0/77.1 kB 70.3 kB/s eta 0:00:01\n",
      "     -------------------- ------------------ 41.0/77.1 kB 70.3 kB/s eta 0:00:01\n",
      "     -------------------- ------------------ 41.0/77.1 kB 70.3 kB/s eta 0:00:01\n",
      "     -------------------- ------------------ 41.0/77.1 kB 70.3 kB/s eta 0:00:01\n",
      "     -------------------- ------------------ 41.0/77.1 kB 70.3 kB/s eta 0:00:01\n",
      "     -------------------- ------------------ 41.0/77.1 kB 70.3 kB/s eta 0:00:01\n",
      "     -------------------- ------------------ 41.0/77.1 kB 70.3 kB/s eta 0:00:01\n",
      "     ------------------------------- ------- 61.4/77.1 kB 64.2 kB/s eta 0:00:01\n",
      "     ------------------------------- ------- 61.4/77.1 kB 64.2 kB/s eta 0:00:01\n",
      "     ------------------------------- ------- 61.4/77.1 kB 64.2 kB/s eta 0:00:01\n",
      "     ------------------------------- ------- 61.4/77.1 kB 64.2 kB/s eta 0:00:01\n",
      "     ------------------------------- ------- 61.4/77.1 kB 64.2 kB/s eta 0:00:01\n",
      "     ------------------------------- ------- 61.4/77.1 kB 64.2 kB/s eta 0:00:01\n",
      "     ------------------------------- ------- 61.4/77.1 kB 64.2 kB/s eta 0:00:01\n",
      "     ------------------------------- ------- 61.4/77.1 kB 64.2 kB/s eta 0:00:01\n",
      "     ------------------------------- ------- 61.4/77.1 kB 64.2 kB/s eta 0:00:01\n",
      "     ------------------------------- ------- 61.4/77.1 kB 64.2 kB/s eta 0:00:01\n",
      "     ------------------------------- ------- 61.4/77.1 kB 64.2 kB/s eta 0:00:01\n",
      "     ------------------------------- ------- 61.4/77.1 kB 64.2 kB/s eta 0:00:01\n",
      "     ------------------------------- ------- 61.4/77.1 kB 64.2 kB/s eta 0:00:01\n",
      "     --------------------------------------- 77.1/77.1 kB 45.1 kB/s eta 0:00:00\n",
      "Note: you may need to restart the kernel to use updated packages.\n"
     ]
    },
    {
     "name": "stderr",
     "output_type": "stream",
     "text": [
      "ERROR: Could not install packages due to an OSError: (\"Connection broken: ConnectionResetError(10054, 'An existing connection was forcibly closed by the remote host', None, 10054, None)\", ConnectionResetError(10054, 'An existing connection was forcibly closed by the remote host', None, 10054, None))\n",
      "\n"
     ]
    }
   ],
   "source": [
    "pip install mlProject\n"
   ]
  },
  {
   "cell_type": "code",
   "execution_count": 8,
   "metadata": {},
   "outputs": [
    {
     "ename": "ModuleNotFoundError",
     "evalue": "No module named 'mlProject'",
     "output_type": "error",
     "traceback": [
      "\u001b[1;31m---------------------------------------------------------------------------\u001b[0m",
      "\u001b[1;31mModuleNotFoundError\u001b[0m                       Traceback (most recent call last)",
      "Cell \u001b[1;32mIn[8], line 1\u001b[0m\n\u001b[1;32m----> 1\u001b[0m \u001b[38;5;28;01mfrom\u001b[39;00m \u001b[38;5;21;01mmlProject\u001b[39;00m\u001b[38;5;21;01m.\u001b[39;00m\u001b[38;5;21;01mconstants\u001b[39;00m \u001b[38;5;28;01mimport\u001b[39;00m \u001b[38;5;241m*\u001b[39m\n\u001b[0;32m      2\u001b[0m \u001b[38;5;28;01mfrom\u001b[39;00m \u001b[38;5;21;01mmlProject\u001b[39;00m\u001b[38;5;21;01m.\u001b[39;00m\u001b[38;5;21;01mutils\u001b[39;00m\u001b[38;5;21;01m.\u001b[39;00m\u001b[38;5;21;01mcommon\u001b[39;00m \u001b[38;5;28;01mimport\u001b[39;00m read_yaml, create_directories\n",
      "\u001b[1;31mModuleNotFoundError\u001b[0m: No module named 'mlProject'"
     ]
    }
   ],
   "source": [
    "from mlProject.constants import *\n",
    "from mlProject.utils.common import read_yaml, create_directories"
   ]
  },
  {
   "cell_type": "code",
   "execution_count": 24,
   "metadata": {},
   "outputs": [
    {
     "ename": "ModuleNotFoundError",
     "evalue": "No module named 'mlprojects'",
     "output_type": "error",
     "traceback": [
      "\u001b[1;31m---------------------------------------------------------------------------\u001b[0m",
      "\u001b[1;31mModuleNotFoundError\u001b[0m                       Traceback (most recent call last)",
      "Cell \u001b[1;32mIn[24], line 1\u001b[0m\n\u001b[1;32m----> 1\u001b[0m \u001b[38;5;28;01mfrom\u001b[39;00m \u001b[38;5;21;01mmlprojects\u001b[39;00m\u001b[38;5;21;01m.\u001b[39;00m\u001b[38;5;21;01mconstants\u001b[39;00m \u001b[38;5;28;01mimport\u001b[39;00m \u001b[38;5;241m*\u001b[39m\n\u001b[0;32m      2\u001b[0m \u001b[38;5;28;01mfrom\u001b[39;00m \u001b[38;5;21;01mmlprojects\u001b[39;00m\u001b[38;5;21;01m.\u001b[39;00m\u001b[38;5;21;01mutils\u001b[39;00m\u001b[38;5;21;01m.\u001b[39;00m\u001b[38;5;21;01mcommon\u001b[39;00m \u001b[38;5;28;01mimport\u001b[39;00m read_yaml, create_directories\n",
      "\u001b[1;31mModuleNotFoundError\u001b[0m: No module named 'mlprojects'"
     ]
    }
   ],
   "source": [
    "from mlprojects.constants import *\n",
    "from mlprojects.utils.common import read_yaml, create_directories"
   ]
  },
  {
   "cell_type": "code",
   "execution_count": null,
   "metadata": {},
   "outputs": [],
   "source": [
    "class ConfigurationManager:\n",
    "    def __init__(\n",
    "        self,\n",
    "        config_filepath = CONFIG_FILE_PATH,\n",
    "        params_filepath = PARAMS_FILE_PATH,\n",
    "        schema_filepath = SCHEMA_FILE_PATH):\n",
    "\n",
    "        self.config = read_yaml(config_filepath)\n",
    "        self.params = read_yaml(params_filepath)\n",
    "        self.schema = read_yaml(schema_filepath)\n",
    "\n",
    "        create_directories([self.config.arifacts_root])\n",
    "\n",
    "\n",
    "    def get_data_ingestion_config(self) -> DataIngestionConfig:\n",
    "        config = self.config.data_ingestion\n",
    "\n",
    "        create_directories([config.root_dir])\n",
    "\n",
    "        data_ingestion_config = DataIngestionConfig(\n",
    "            root_dir=config.root_dir,\n",
    "            source_URL=config.source_URL,\n",
    "            local_data_file=config.local_data_file,\n",
    "            unzip_dir=config.unzip_dir \n",
    "        )\n",
    "\n",
    "        return data_ingestion_config"
   ]
  },
  {
   "cell_type": "code",
   "execution_count": null,
   "metadata": {},
   "outputs": [],
   "source": [
    "import os\n",
    "import urllib.request as request\n",
    "import zipfile\n",
    "from src.mlProject import logger\n",
    "from src.mlProject.utils.common import get_size"
   ]
  },
  {
   "cell_type": "code",
   "execution_count": null,
   "metadata": {},
   "outputs": [],
   "source": [
    "class DataIngestion:\n",
    "    def __init__(self, config: DataIngestionConfig):\n",
    "        self.config = config\n",
    "\n",
    "\n",
    "    \n",
    "    def download_file(self):\n",
    "        if not os.path.exists(self.config.local_data_file):\n",
    "            filename, headers = request.urlretrieve(\n",
    "                url = self.config.source_URL,\n",
    "                filename = self.config.local_data_file\n",
    "            )\n",
    "            logger.info(f\"{filename} download! with following info: \\n{headers}\")\n",
    "        else:\n",
    "            logger.info(f\"File already exists of size: {get_size(Path(self.config.local_data_file))}\")\n",
    "\n",
    "\n",
    "\n",
    "    \n",
    "    def extract_zip_file(self):\n",
    "        \"\"\"\n",
    "        zip_file_path: str\n",
    "        Extracts the zip file into the data directory\n",
    "        Function returns None\n",
    "        \"\"\"\n",
    "        unzip_path = self.config.unzip_dir\n",
    "        os.makedirs(unzip_path, exist_ok=True)\n",
    "        with zipfile.ZipFile(self.config.local_data_file, 'r') as zip_ref:\n",
    "            zip_ref.extractall(unzip_path)"
   ]
  },
  {
   "cell_type": "code",
   "execution_count": null,
   "metadata": {},
   "outputs": [],
   "source": [
    "try:\n",
    "    config = ConfigurationManager()\n",
    "    data_ingestion_config = config.get_data_ingestion_config()\n",
    "    data_ingestion = DataIngestion(config=data_ingestion_config)\n",
    "    data_ingestion.download_file()\n",
    "    data_ingestion.extract_zip_file()\n",
    "except Exception as e:\n",
    "    raise e"
   ]
  }
 ],
 "metadata": {
  "kernelspec": {
   "display_name": "mlproject",
   "language": "python",
   "name": "python3"
  },
  "language_info": {
   "codemirror_mode": {
    "name": "ipython",
    "version": 3
   },
   "file_extension": ".py",
   "mimetype": "text/x-python",
   "name": "python",
   "nbconvert_exporter": "python",
   "pygments_lexer": "ipython3",
   "version": "3.8.19"
  }
 },
 "nbformat": 4,
 "nbformat_minor": 2
}
